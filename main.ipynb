{
 "cells": [
  {
   "cell_type": "markdown",
   "id": "a9c9afc7",
   "metadata": {},
   "source": [
    "Dans la cellule de code suivante, nous avons lancé plusieurs simulation de notre file pour observer l'évaluation du temps de réponse moyen pour chaque valeur de C {1; 2; 3; 6} en fonction de λ."
   ]
  },
  {
   "cell_type": "code",
   "execution_count": 11,
   "id": "61a85c05",
   "metadata": {},
   "outputs": [
    {
     "data": {
      "text/plain": [
       "{'temp_moyen_attente_client': 21.75162589738966, 'taux_rejet': 0.0}"
      ]
     },
     "execution_count": 11,
     "metadata": {},
     "output_type": "execute_result"
    }
   ],
   "source": [
    "import routeur\n",
    "\n",
    "LAMBDA_REQUETE = 2.3\n",
    "\n",
    "C = 1\n",
    "\n",
    "T_MAX = 1000\n",
    "\n",
    "routeur.simul_fifo(LAMBDA_REQUETE, C, T_MAX)"
   ]
  },
  {
   "cell_type": "code",
   "execution_count": null,
   "id": "17414b4a",
   "metadata": {},
   "outputs": [],
   "source": [
    "def interval_conf_attente_client(lambda_requete, c, t_max):\n",
    "    moy = 0\n",
    "    elem = []\n",
    "    for _ in range(ECHANTILLON):\n",
    "        elem.append(routeur.simul_fifo(lambda_requete, c, t_max))\n",
    "        moy += (elem[-1][\"temp_moyen_attente_client\"]) / ECHANTILLON\n",
    "    \n",
    "    # Estimation de la variance\n",
    "    var = 0\n",
    "\n",
    "    for i in range(ECHANTILLON):\n",
    "        var += ((elem[i][\"temp_moyen_attente_client\"] - moy)**2) * (1 / (ECHANTILLON-1))\n",
    "    \n",
    "    d = 1.96*((var/ECHANTILLON)**0.5)\n",
    "\n",
    "    return (moy-d, moy+d)\n",
    "    \n"
   ]
  },
  {
   "cell_type": "code",
   "execution_count": null,
   "id": "f906f9dc",
   "metadata": {},
   "outputs": [],
   "source": [
    "import routeur\n",
    "import matplotlib.pyplot as plt\n",
    "import numpy as np\n",
    "\n",
    "\n",
    "# Paramètres de la simulation\n",
    "T_MAX = 1000  # Temps maximal de simulation\n",
    "STEP = 0.1\n",
    "ECHANTILLON = 100\n",
    "\n",
    "# Valeurs possibles pour C\n",
    "C_values = [1, 2, 3, 6]\n",
    "\n",
    "# Liste pour stocker les résultats pour chaque valeur de C\n",
    "data = []\n",
    "\n",
    "# Simulation pour chaque valeur de C\n",
    "for C in C_values:\n",
    "    data.append({\"temp_reponse_moyen\" : [], \"borne_inf\" : [], \"borne_sup\" : [], \"C\" : C, \"lambdas\" : []})\n",
    "    \n",
    "    # Initialisation de lambda_requete pour chaque C\n",
    "    lambda_requete = 0.1\n",
    "\n",
    "    # Effectuer la simulation pour chaque valeur de lambda_requete\n",
    "    while True:\n",
    "        # Simulation\n",
    "        resultats = routeur.simul_fifo(lambda_requete, C, T_MAX)\n",
    "\n",
    "        # Vérification du taux de rejet\n",
    "        if resultats[\"taux_rejet\"] > 0.05:\n",
    "            break\n",
    "        \n",
    "        # stock le resultat\n",
    "        data[-1][\"temp_reponse_moyen\"].append(resultats[\"temp_moyen_attente_client\"])\n",
    "        data[-1][\"lambdas\"].append(lambda_requete)\n",
    "\n",
    "        # calcul intervalle de confiance\n",
    "        intervals = interval_conf_attente_client(lambda_requete, C, T_MAX)\n",
    "        data[-1][\"borne_inf\"].append(intervals[0])\n",
    "        data[-1][\"borne_sup\"].append(intervals[1])\n",
    "        \n",
    "        # Pas de lambda_requete\n",
    "        lambda_requete += STEP\n",
    "\n",
    "# Tracer les courbes pour chaque valeur de C\n",
    "plt.figure(figsize=(14, 6))\n",
    "for i in range(len(C_values)):\n",
    "    plt.plot(data[i][lambdas], data[i][temps_reponse_moyen], linestyle='-', label=(\"C = \" + str(data[i][\"C\"])))\n",
    "    plt.fill_between(data[i][lambdas], data[i][\"borne_inf\"], data[i][\"borne_sup\"])\n",
    "\n",
    "# Ajouter un titre et des labels\n",
    "plt.title(\"Temps de réponse moyen en fonction de λ pour différentes valeurs de C avec intervalles de confiance\", size=14)\n",
    "plt.xlabel(\"λ (Taux d'arrivée des requêtes)\")\n",
    "plt.ylabel(\"Temps de réponse moyen (en secondes)\")\n",
    "plt.grid(True)\n",
    "\n",
    "# Affichage du graphique\n",
    "plt.show()\n"
   ]
  }
 ],
 "metadata": {
  "kernelspec": {
   "display_name": "Python 3",
   "language": "python",
   "name": "python3"
  },
  "language_info": {
   "codemirror_mode": {
    "name": "ipython",
    "version": 3
   },
   "file_extension": ".py",
   "mimetype": "text/x-python",
   "name": "python",
   "nbconvert_exporter": "python",
   "pygments_lexer": "ipython3",
   "version": "3.13.3"
  }
 },
 "nbformat": 4,
 "nbformat_minor": 5
}
